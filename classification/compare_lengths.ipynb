{
 "cells": [
  {
   "cell_type": "code",
   "execution_count": 1,
   "metadata": {
    "collapsed": true
   },
   "outputs": [],
   "source": [
    "import argparse\n",
    "import pickle\n",
    "import os\n",
    "import sys\n",
    "from sklearn.metrics import accuracy_score, f1_score\n",
    "from tabulate import tabulate\n",
    "import classify\n",
    "from analyze_results import modified_accuracy_score\n",
    "from sklearn.model_selection import train_test_split\n",
    "import pandas as pd\n",
    "from sktime.base import load"
   ]
  },
  {
   "cell_type": "code",
   "execution_count": 2,
   "outputs": [],
   "source": [
    "data_file = '../datasets/data_directional_200-class_100-samples.pkl'\n",
    "domain_file = '../collection_scripts/top-1k-curated'"
   ],
   "metadata": {
    "collapsed": false
   }
  },
  {
   "cell_type": "code",
   "execution_count": 3,
   "outputs": [],
   "source": [
    "def load_data(path):\n",
    "    '''\n",
    "    Loads data from the pickle file.\n",
    "\n",
    "    path: path to the file to load.\n",
    "\n",
    "    Returns: data, labels as lists.\n",
    "    '''\n",
    "    data, labels = [], []\n",
    "    with open(path, 'rb') as data_file:\n",
    "        d = pickle.load(data_file)\n",
    "        data = d['data']\n",
    "        labels = d['labels']\n",
    "\n",
    "    return data, labels"
   ],
   "metadata": {
    "collapsed": false
   }
  },
  {
   "cell_type": "code",
   "execution_count": 4,
   "outputs": [],
   "source": [
    "with open(domain_file, 'r') as fh:\n",
    "    domains = [line.strip() for line in fh.readlines()]"
   ],
   "metadata": {
    "collapsed": false
   }
  },
  {
   "cell_type": "code",
   "execution_count": 5,
   "outputs": [
    {
     "name": "stdout",
     "output_type": "stream",
     "text": [
      "Loading data...\n"
     ]
    }
   ],
   "source": [
    "print('Loading data...')\n",
    "data, labels = load_data(data_file)"
   ],
   "metadata": {
    "collapsed": false
   }
  },
  {
   "cell_type": "code",
   "execution_count": 11,
   "outputs": [],
   "source": [
    "import pickle\n",
    "with open('./minirocket_iat_ridge/predictions.pkl', 'rb') as p:\n",
    "    iat_stuff = pickle.load(p)\n",
    "X_iat = iat_stuff['X']"
   ],
   "metadata": {
    "collapsed": false
   }
  },
  {
   "cell_type": "code",
   "execution_count": 69,
   "outputs": [
    {
     "name": "stdout",
     "output_type": "stream",
     "text": [
      "0     0.001769\n",
      "1     0.046898\n",
      "2     0.036546\n",
      "3     0.011142\n",
      "4     0.004688\n",
      "5     0.004671\n",
      "6     0.088225\n",
      "7     0.054433\n",
      "8     0.087886\n",
      "9     0.053110\n",
      "10    0.052146\n",
      "11    0.061155\n",
      "12    0.015638\n",
      "13    0.069086\n",
      "14    0.048865\n",
      "15    0.056197\n",
      "16    0.005063\n",
      "17    0.052070\n",
      "18    0.021838\n",
      "19    0.030407\n",
      "20    0.000564\n",
      "21    0.079756\n",
      "22    0.038431\n",
      "23    0.003183\n",
      "24    0.044764\n",
      "25    0.009144\n",
      "26    0.038201\n",
      "27    0.074162\n",
      "28    0.073644\n",
      "29    0.013863\n",
      "30    0.024590\n",
      "31    0.027598\n",
      "dtype: float64\n",
      "0     0.001769\n",
      "1     0.046898\n",
      "2     0.000000\n",
      "3     0.000000\n",
      "4     0.000000\n",
      "5     0.004671\n",
      "6     0.088225\n",
      "7     0.000000\n",
      "8     0.000000\n",
      "9     0.000000\n",
      "10    0.052146\n",
      "11    0.061155\n",
      "12    0.000000\n",
      "13    0.000000\n",
      "14    0.000000\n",
      "15    0.056197\n",
      "16    0.005063\n",
      "17    0.052070\n",
      "18    0.000000\n",
      "19    0.030407\n",
      "20    0.000000\n",
      "21    0.000000\n",
      "22    0.000000\n",
      "23    0.000000\n",
      "24    0.000000\n",
      "25    0.009144\n",
      "26    0.038201\n",
      "27    0.000000\n",
      "28    0.000000\n",
      "29    0.000000\n",
      "30    0.000000\n",
      "31    0.000000\n",
      "dtype: float64\n"
     ]
    }
   ],
   "source": [
    "# X_iat.iloc[0]\n",
    "i = 3\n",
    "delays = pd.Series(np.random.uniform(0, 0.1, X_iat.loc[i].index.shape[0]))\n",
    "filter = X_iat.loc[i, 'packet_size'] > 100\n",
    "# print(filter)\n",
    "print(delays)\n",
    "# print(delays*filter)\n",
    "delays *= filter\n",
    "print(delays)\n",
    "# print(delays.loc[0])\n",
    "delays.loc[0] = 0\n",
    "# print(delays.loc[0])\n",
    "# print(delays)\n",
    "# print(X_iat.loc[i, 'time'])\n",
    "# print(delays)\n",
    "# print(X_iat.loc[i, 'time'] + delays)\n",
    "X_iat.loc[i, 'time'] = (X_iat.loc[i, 'time'] + delays).values\n",
    "# print(X_iat.loc[i]['time'])\n",
    "# print(X_iat.loc[i])"
   ],
   "metadata": {
    "collapsed": false
   }
  },
  {
   "cell_type": "code",
   "execution_count": 44,
   "outputs": [],
   "source": [
    "import numpy as np"
   ],
   "metadata": {
    "collapsed": false
   }
  },
  {
   "cell_type": "code",
   "execution_count": 7,
   "outputs": [
    {
     "name": "stdout",
     "output_type": "stream",
     "text": [
      "374\n"
     ]
    }
   ],
   "source": [
    "max_length = max(map(lambda sample: len(sample), data))\n",
    "print(max_length)"
   ],
   "metadata": {
    "collapsed": false
   }
  },
  {
   "cell_type": "code",
   "execution_count": 8,
   "outputs": [],
   "source": [
    "lengths = [max_length, 200, 100, 50, 25, 10, 5]"
   ],
   "metadata": {
    "collapsed": false
   }
  },
  {
   "cell_type": "code",
   "execution_count": 9,
   "outputs": [],
   "source": [
    "def make_sample_list(data):\n",
    "    samples_as_lists = []\n",
    "    for sample in data:\n",
    "        samples_as_lists.append([(k, v) for k, v in sample.items()])\n",
    "    return samples_as_lists\n",
    "\n",
    "# divide data into smaller pieces:\n",
    "def divide_data(samples_as_lists, labels, length):\n",
    "    new_data = []\n",
    "    new_labels = []\n",
    "    for i in range(0, len(labels)):\n",
    "        sample = samples_as_lists[i]\n",
    "        label = labels[i]\n",
    "        slice_sample_list = sample[0:length]\n",
    "        slice_sample = {a[0]:a[1] for a in slice_sample_list}\n",
    "        new_data.append(slice_sample)\n",
    "        new_labels.append(label)\n",
    "        # for slice_start in range(0, len(sample), int(length/2)):\n",
    "        #     slice_end = slice_start + length\n",
    "        #     slice_sample_list = sample[slice_start:slice_end]\n",
    "        #     slice_sample = {a[0]:a[1] for a in slice_sample_list}\n",
    "        #     new_data.append(slice_sample)\n",
    "        #     new_labels.append(label)\n",
    "    return new_data, new_labels"
   ],
   "metadata": {
    "collapsed": false
   }
  },
  {
   "cell_type": "code",
   "execution_count": 10,
   "outputs": [
    {
     "name": "stdout",
     "output_type": "stream",
     "text": [
      "slicing data\n",
      "done slicing\n"
     ]
    }
   ],
   "source": [
    "print('slicing data')\n",
    "all_data = {}\n",
    "samples_as_lists = make_sample_list(data)\n",
    "for l in lengths:\n",
    "    new_data, new_labels = divide_data(samples_as_lists, labels, l)\n",
    "    all_data[l] = (new_data, new_labels)\n",
    "print('done slicing')"
   ],
   "metadata": {
    "collapsed": false
   }
  },
  {
   "cell_type": "code",
   "execution_count": 11,
   "outputs": [],
   "source": [
    "methods = ['rocket', 'catch22']\n",
    "models = {'rocket': '/home/jay/Documents/Fall 2022/EECS 589/Project/eecs589-patel-schauer/classification/directional_200-class_100-samples_rocket/model',\n",
    "          'catch22': '/home/jay/Documents/Fall 2022/EECS 589/Project/eecs589-patel-schauer/classification/directional_200-class_100-samples_catch22/model'}"
   ],
   "metadata": {
    "collapsed": false
   }
  },
  {
   "cell_type": "code",
   "execution_count": 12,
   "outputs": [],
   "source": [
    "def run_classifier(data, labels):\n",
    "    max_length = max(map(lambda sample: len(sample), data))\n",
    "    _, X_test, _, y_test = train_test_split(\n",
    "        data, labels, random_state=589, test_size=0.25, shuffle=True\n",
    "    )\n",
    "    X_test = classify.make_directional_dataframe(X_test)\n",
    "    y_test = pd.Series(y_test)\n",
    "\n",
    "    output = {}\n",
    "    for method in methods:\n",
    "        print('Loading model')\n",
    "        clf = load(models[method])\n",
    "        print('Making predictions...')\n",
    "        y_pred = clf.predict(X_test)\n",
    "        accuracy = accuracy_score(y_pred, y_test)\n",
    "        f1 = f1_score(y_test, y_pred, average='weighted')\n",
    "        modified_accuracy = modified_accuracy_score(y_test, y_pred, domains)\n",
    "        table = [[max_length, accuracy, f1, modified_accuracy]]\n",
    "        print(method)\n",
    "        print(tabulate(table, headers=['Length', 'Accuracy', 'F1', 'Modified Accuracy']))\n",
    "        output[method] = table[0]\n",
    "    return output"
   ],
   "metadata": {
    "collapsed": false
   }
  },
  {
   "cell_type": "code",
   "execution_count": 13,
   "outputs": [
    {
     "name": "stdout",
     "output_type": "stream",
     "text": [
      "Running classifier with length 374\n",
      "Loading model\n",
      "Making predictions...\n"
     ]
    },
    {
     "name": "stderr",
     "output_type": "stream",
     "text": [
      "/home/jay/Documents/Fall 2022/EECS 589/Project/eecs589-patel-schauer/venv/lib/python3.10/site-packages/sktime/datatypes/_panel/_convert.py:713: FutureWarning: iteritems is deprecated and will be removed in a future version. Use .items instead.\n",
      "  for _label, _series in multi_ind_dataframe.iteritems():  # noqa\n"
     ]
    },
    {
     "name": "stdout",
     "output_type": "stream",
     "text": [
      "rocket\n",
      "  Length    Accuracy        F1    Modified Accuracy\n",
      "--------  ----------  --------  -------------------\n",
      "     374    0.926218  0.922765             0.960784\n",
      "Loading model\n"
     ]
    },
    {
     "name": "stderr",
     "output_type": "stream",
     "text": [
      "/home/jay/Documents/Fall 2022/EECS 589/Project/eecs589-patel-schauer/venv/lib/python3.10/site-packages/sktime/utils/validation/_dependencies.py:117: UserWarning: No module named 'tsfresh'. 'tsfresh' is a soft dependency and not included in the base sktime installation. Please run: `pip install tsfresh` to install the tsfresh package. To install all soft dependencies, run: `pip install sktime[all_extras]`\n",
      "  warnings.warn(msg)\n",
      "/home/jay/Documents/Fall 2022/EECS 589/Project/eecs589-patel-schauer/venv/lib/python3.10/site-packages/sktime/utils/validation/_dependencies.py:117: UserWarning: No module named 'esig'. 'esig' is a soft dependency and not included in the base sktime installation. Please run: `pip install esig` to install the esig package. To install all soft dependencies, run: `pip install sktime[all_extras]`\n",
      "  warnings.warn(msg)\n"
     ]
    },
    {
     "name": "stdout",
     "output_type": "stream",
     "text": [
      "Making predictions...\n"
     ]
    },
    {
     "name": "stderr",
     "output_type": "stream",
     "text": [
      "/home/jay/Documents/Fall 2022/EECS 589/Project/eecs589-patel-schauer/venv/lib/python3.10/site-packages/sktime/datatypes/_panel/_convert.py:713: FutureWarning: iteritems is deprecated and will be removed in a future version. Use .items instead.\n",
      "  for _label, _series in multi_ind_dataframe.iteritems():  # noqa\n"
     ]
    },
    {
     "name": "stdout",
     "output_type": "stream",
     "text": [
      "catch22\n",
      "  Length    Accuracy        F1    Modified Accuracy\n",
      "--------  ----------  --------  -------------------\n",
      "     374    0.925814  0.924749             0.957348\n",
      "Finished running classifier with length 374\n",
      "Results so far for method rocket\n",
      "  Length    Accuracy        F1    Modified Accuracy\n",
      "--------  ----------  --------  -------------------\n",
      "     374    0.926218  0.922765             0.960784\n",
      "Results so far for method catch22\n",
      "  Length    Accuracy        F1    Modified Accuracy\n",
      "--------  ----------  --------  -------------------\n",
      "     374    0.925814  0.924749             0.957348\n",
      "Running classifier with length 200\n",
      "Loading model\n",
      "Making predictions...\n"
     ]
    },
    {
     "name": "stderr",
     "output_type": "stream",
     "text": [
      "/home/jay/Documents/Fall 2022/EECS 589/Project/eecs589-patel-schauer/venv/lib/python3.10/site-packages/sktime/datatypes/_panel/_convert.py:713: FutureWarning: iteritems is deprecated and will be removed in a future version. Use .items instead.\n",
      "  for _label, _series in multi_ind_dataframe.iteritems():  # noqa\n"
     ]
    },
    {
     "name": "stdout",
     "output_type": "stream",
     "text": [
      "rocket\n",
      "  Length    Accuracy        F1    Modified Accuracy\n",
      "--------  ----------  --------  -------------------\n",
      "     200    0.913483  0.907741             0.948049\n",
      "Loading model\n",
      "Making predictions...\n"
     ]
    },
    {
     "name": "stderr",
     "output_type": "stream",
     "text": [
      "/home/jay/Documents/Fall 2022/EECS 589/Project/eecs589-patel-schauer/venv/lib/python3.10/site-packages/sktime/datatypes/_panel/_convert.py:713: FutureWarning: iteritems is deprecated and will be removed in a future version. Use .items instead.\n",
      "  for _label, _series in multi_ind_dataframe.iteritems():  # noqa\n"
     ]
    },
    {
     "name": "stdout",
     "output_type": "stream",
     "text": [
      "catch22\n",
      "  Length    Accuracy        F1    Modified Accuracy\n",
      "--------  ----------  --------  -------------------\n",
      "     200    0.902567  0.894581             0.934101\n",
      "Finished running classifier with length 200\n",
      "Results so far for method rocket\n",
      "  Length    Accuracy        F1    Modified Accuracy\n",
      "--------  ----------  --------  -------------------\n",
      "     374    0.926218  0.922765             0.960784\n",
      "     200    0.913483  0.907741             0.948049\n",
      "Results so far for method catch22\n",
      "  Length    Accuracy        F1    Modified Accuracy\n",
      "--------  ----------  --------  -------------------\n",
      "     374    0.925814  0.924749             0.957348\n",
      "     200    0.902567  0.894581             0.934101\n",
      "Running classifier with length 100\n",
      "Loading model\n",
      "Making predictions...\n"
     ]
    },
    {
     "name": "stderr",
     "output_type": "stream",
     "text": [
      "/home/jay/Documents/Fall 2022/EECS 589/Project/eecs589-patel-schauer/venv/lib/python3.10/site-packages/sktime/datatypes/_panel/_convert.py:713: FutureWarning: iteritems is deprecated and will be removed in a future version. Use .items instead.\n",
      "  for _label, _series in multi_ind_dataframe.iteritems():  # noqa\n"
     ]
    },
    {
     "name": "stdout",
     "output_type": "stream",
     "text": [
      "rocket\n",
      "  Length    Accuracy       F1    Modified Accuracy\n",
      "--------  ----------  -------  -------------------\n",
      "     100    0.768547  0.73545             0.803922\n",
      "Loading model\n",
      "Making predictions...\n"
     ]
    },
    {
     "name": "stderr",
     "output_type": "stream",
     "text": [
      "/home/jay/Documents/Fall 2022/EECS 589/Project/eecs589-patel-schauer/venv/lib/python3.10/site-packages/sktime/datatypes/_panel/_convert.py:713: FutureWarning: iteritems is deprecated and will be removed in a future version. Use .items instead.\n",
      "  for _label, _series in multi_ind_dataframe.iteritems():  # noqa\n"
     ]
    },
    {
     "name": "stdout",
     "output_type": "stream",
     "text": [
      "catch22\n",
      "  Length    Accuracy        F1    Modified Accuracy\n",
      "--------  ----------  --------  -------------------\n",
      "     100    0.745704  0.713232             0.777643\n",
      "Finished running classifier with length 100\n",
      "Results so far for method rocket\n",
      "  Length    Accuracy        F1    Modified Accuracy\n",
      "--------  ----------  --------  -------------------\n",
      "     374    0.926218  0.922765             0.960784\n",
      "     200    0.913483  0.907741             0.948049\n",
      "     100    0.768547  0.73545              0.803922\n",
      "Results so far for method catch22\n",
      "  Length    Accuracy        F1    Modified Accuracy\n",
      "--------  ----------  --------  -------------------\n",
      "     374    0.925814  0.924749             0.957348\n",
      "     200    0.902567  0.894581             0.934101\n",
      "     100    0.745704  0.713232             0.777643\n",
      "Running classifier with length 50\n",
      "Loading model\n",
      "Making predictions...\n"
     ]
    },
    {
     "name": "stderr",
     "output_type": "stream",
     "text": [
      "/home/jay/Documents/Fall 2022/EECS 589/Project/eecs589-patel-schauer/venv/lib/python3.10/site-packages/sktime/datatypes/_panel/_convert.py:713: FutureWarning: iteritems is deprecated and will be removed in a future version. Use .items instead.\n",
      "  for _label, _series in multi_ind_dataframe.iteritems():  # noqa\n"
     ]
    },
    {
     "name": "stdout",
     "output_type": "stream",
     "text": [
      "rocket\n",
      "  Length    Accuracy        F1    Modified Accuracy\n",
      "--------  ----------  --------  -------------------\n",
      "      50    0.556297  0.494494             0.596119\n",
      "Loading model\n",
      "Making predictions...\n"
     ]
    },
    {
     "name": "stderr",
     "output_type": "stream",
     "text": [
      "/home/jay/Documents/Fall 2022/EECS 589/Project/eecs589-patel-schauer/venv/lib/python3.10/site-packages/sktime/datatypes/_panel/_convert.py:713: FutureWarning: iteritems is deprecated and will be removed in a future version. Use .items instead.\n",
      "  for _label, _series in multi_ind_dataframe.iteritems():  # noqa\n"
     ]
    },
    {
     "name": "stdout",
     "output_type": "stream",
     "text": [
      "catch22\n",
      "  Length    Accuracy        F1    Modified Accuracy\n",
      "--------  ----------  --------  -------------------\n",
      "      50    0.496665  0.432788             0.535072\n",
      "Finished running classifier with length 50\n",
      "Results so far for method rocket\n",
      "  Length    Accuracy        F1    Modified Accuracy\n",
      "--------  ----------  --------  -------------------\n",
      "     374    0.926218  0.922765             0.960784\n",
      "     200    0.913483  0.907741             0.948049\n",
      "     100    0.768547  0.73545              0.803922\n",
      "      50    0.556297  0.494494             0.596119\n",
      "Results so far for method catch22\n",
      "  Length    Accuracy        F1    Modified Accuracy\n",
      "--------  ----------  --------  -------------------\n",
      "     374    0.925814  0.924749             0.957348\n",
      "     200    0.902567  0.894581             0.934101\n",
      "     100    0.745704  0.713232             0.777643\n",
      "      50    0.496665  0.432788             0.535072\n",
      "Running classifier with length 25\n",
      "Loading model\n",
      "Making predictions...\n"
     ]
    },
    {
     "name": "stderr",
     "output_type": "stream",
     "text": [
      "/home/jay/Documents/Fall 2022/EECS 589/Project/eecs589-patel-schauer/venv/lib/python3.10/site-packages/sktime/datatypes/_panel/_convert.py:713: FutureWarning: iteritems is deprecated and will be removed in a future version. Use .items instead.\n",
      "  for _label, _series in multi_ind_dataframe.iteritems():  # noqa\n"
     ]
    },
    {
     "name": "stdout",
     "output_type": "stream",
     "text": [
      "rocket\n",
      "  Length    Accuracy        F1    Modified Accuracy\n",
      "--------  ----------  --------  -------------------\n",
      "      25     0.29149  0.243864             0.300586\n",
      "Loading model\n",
      "Making predictions...\n"
     ]
    },
    {
     "name": "stderr",
     "output_type": "stream",
     "text": [
      "/home/jay/Documents/Fall 2022/EECS 589/Project/eecs589-patel-schauer/venv/lib/python3.10/site-packages/sktime/datatypes/_panel/_convert.py:713: FutureWarning: iteritems is deprecated and will be removed in a future version. Use .items instead.\n",
      "  for _label, _series in multi_ind_dataframe.iteritems():  # noqa\n"
     ]
    },
    {
     "name": "stdout",
     "output_type": "stream",
     "text": [
      "catch22\n",
      "  Length    Accuracy        F1    Modified Accuracy\n",
      "--------  ----------  --------  -------------------\n",
      "      25    0.201132  0.130746             0.201334\n",
      "Finished running classifier with length 25\n",
      "Results so far for method rocket\n",
      "  Length    Accuracy        F1    Modified Accuracy\n",
      "--------  ----------  --------  -------------------\n",
      "     374    0.926218  0.922765             0.960784\n",
      "     200    0.913483  0.907741             0.948049\n",
      "     100    0.768547  0.73545              0.803922\n",
      "      50    0.556297  0.494494             0.596119\n",
      "      25    0.29149   0.243864             0.300586\n",
      "Results so far for method catch22\n",
      "  Length    Accuracy        F1    Modified Accuracy\n",
      "--------  ----------  --------  -------------------\n",
      "     374    0.925814  0.924749             0.957348\n",
      "     200    0.902567  0.894581             0.934101\n",
      "     100    0.745704  0.713232             0.777643\n",
      "      50    0.496665  0.432788             0.535072\n",
      "      25    0.201132  0.130746             0.201334\n",
      "Running classifier with length 10\n",
      "Loading model\n",
      "Making predictions...\n"
     ]
    },
    {
     "name": "stderr",
     "output_type": "stream",
     "text": [
      "/home/jay/Documents/Fall 2022/EECS 589/Project/eecs589-patel-schauer/venv/lib/python3.10/site-packages/sktime/datatypes/_panel/_convert.py:713: FutureWarning: iteritems is deprecated and will be removed in a future version. Use .items instead.\n",
      "  for _label, _series in multi_ind_dataframe.iteritems():  # noqa\n"
     ]
    },
    {
     "name": "stdout",
     "output_type": "stream",
     "text": [
      "rocket\n",
      "  Length    Accuracy         F1    Modified Accuracy\n",
      "--------  ----------  ---------  -------------------\n",
      "      10   0.0432585  0.0135493            0.0432585\n",
      "Loading model\n",
      "Making predictions...\n"
     ]
    },
    {
     "name": "stderr",
     "output_type": "stream",
     "text": [
      "/home/jay/Documents/Fall 2022/EECS 589/Project/eecs589-patel-schauer/venv/lib/python3.10/site-packages/sktime/datatypes/_panel/_convert.py:713: FutureWarning: iteritems is deprecated and will be removed in a future version. Use .items instead.\n",
      "  for _label, _series in multi_ind_dataframe.iteritems():  # noqa\n"
     ]
    },
    {
     "name": "stdout",
     "output_type": "stream",
     "text": [
      "catch22\n",
      "  Length    Accuracy         F1    Modified Accuracy\n",
      "--------  ----------  ---------  -------------------\n",
      "      10   0.0501314  0.0144207            0.0501314\n",
      "Finished running classifier with length 10\n",
      "Results so far for method rocket\n",
      "  Length    Accuracy         F1    Modified Accuracy\n",
      "--------  ----------  ---------  -------------------\n",
      "     374   0.926218   0.922765             0.960784\n",
      "     200   0.913483   0.907741             0.948049\n",
      "     100   0.768547   0.73545              0.803922\n",
      "      50   0.556297   0.494494             0.596119\n",
      "      25   0.29149    0.243864             0.300586\n",
      "      10   0.0432585  0.0135493            0.0432585\n",
      "Results so far for method catch22\n",
      "  Length    Accuracy         F1    Modified Accuracy\n",
      "--------  ----------  ---------  -------------------\n",
      "     374   0.925814   0.924749             0.957348\n",
      "     200   0.902567   0.894581             0.934101\n",
      "     100   0.745704   0.713232             0.777643\n",
      "      50   0.496665   0.432788             0.535072\n",
      "      25   0.201132   0.130746             0.201334\n",
      "      10   0.0501314  0.0144207            0.0501314\n",
      "Running classifier with length 5\n",
      "Loading model\n",
      "Making predictions...\n"
     ]
    },
    {
     "name": "stderr",
     "output_type": "stream",
     "text": [
      "/home/jay/Documents/Fall 2022/EECS 589/Project/eecs589-patel-schauer/venv/lib/python3.10/site-packages/sktime/datatypes/_panel/_convert.py:713: FutureWarning: iteritems is deprecated and will be removed in a future version. Use .items instead.\n",
      "  for _label, _series in multi_ind_dataframe.iteritems():  # noqa\n"
     ]
    },
    {
     "name": "stdout",
     "output_type": "stream",
     "text": [
      "rocket\n",
      "  Length    Accuracy           F1    Modified Accuracy\n",
      "--------  ----------  -----------  -------------------\n",
      "       5  0.00848999  0.000645849           0.00848999\n",
      "Loading model\n",
      "Making predictions...\n"
     ]
    },
    {
     "name": "stderr",
     "output_type": "stream",
     "text": [
      "/home/jay/Documents/Fall 2022/EECS 589/Project/eecs589-patel-schauer/venv/lib/python3.10/site-packages/sktime/datatypes/_panel/_convert.py:713: FutureWarning: iteritems is deprecated and will be removed in a future version. Use .items instead.\n",
      "  for _label, _series in multi_ind_dataframe.iteritems():  # noqa\n"
     ]
    },
    {
     "name": "stdout",
     "output_type": "stream",
     "text": [
      "catch22\n",
      "  Length    Accuracy          F1    Modified Accuracy\n",
      "--------  ----------  ----------  -------------------\n",
      "       5   0.0119264  0.00137544            0.0119264\n",
      "Finished running classifier with length 5\n",
      "Results so far for method rocket\n",
      "  Length    Accuracy           F1    Modified Accuracy\n",
      "--------  ----------  -----------  -------------------\n",
      "     374  0.926218    0.922765              0.960784\n",
      "     200  0.913483    0.907741              0.948049\n",
      "     100  0.768547    0.73545               0.803922\n",
      "      50  0.556297    0.494494              0.596119\n",
      "      25  0.29149     0.243864              0.300586\n",
      "      10  0.0432585   0.0135493             0.0432585\n",
      "       5  0.00848999  0.000645849           0.00848999\n",
      "Results so far for method catch22\n",
      "  Length    Accuracy          F1    Modified Accuracy\n",
      "--------  ----------  ----------  -------------------\n",
      "     374   0.925814   0.924749              0.957348\n",
      "     200   0.902567   0.894581              0.934101\n",
      "     100   0.745704   0.713232              0.777643\n",
      "      50   0.496665   0.432788              0.535072\n",
      "      25   0.201132   0.130746              0.201334\n",
      "      10   0.0501314  0.0144207             0.0501314\n",
      "       5   0.0119264  0.00137544            0.0119264\n",
      "Final results with method rocket\n",
      "  Length    Accuracy           F1    Modified Accuracy\n",
      "--------  ----------  -----------  -------------------\n",
      "     374  0.926218    0.922765              0.960784\n",
      "     200  0.913483    0.907741              0.948049\n",
      "     100  0.768547    0.73545               0.803922\n",
      "      50  0.556297    0.494494              0.596119\n",
      "      25  0.29149     0.243864              0.300586\n",
      "      10  0.0432585   0.0135493             0.0432585\n",
      "       5  0.00848999  0.000645849           0.00848999\n",
      "Final results with method catch22\n",
      "  Length    Accuracy          F1    Modified Accuracy\n",
      "--------  ----------  ----------  -------------------\n",
      "     374   0.925814   0.924749              0.957348\n",
      "     200   0.902567   0.894581              0.934101\n",
      "     100   0.745704   0.713232              0.777643\n",
      "      50   0.496665   0.432788              0.535072\n",
      "      25   0.201132   0.130746              0.201334\n",
      "      10   0.0501314  0.0144207             0.0501314\n",
      "       5   0.0119264  0.00137544            0.0119264\n"
     ]
    }
   ],
   "source": [
    "output = {m: [] for m in methods}\n",
    "for length, value in all_data.items():\n",
    "    data = value[0]\n",
    "    labels = value[1]\n",
    "    print(f'Running classifier with length {length}')\n",
    "    result = run_classifier(data, labels)\n",
    "    print(f'Finished running classifier with length {length}')\n",
    "    for m in methods:\n",
    "        print(f'Results so far for method {m}')\n",
    "        output[m].append(result[m])\n",
    "        print(tabulate(output[m], headers=['Length', 'Accuracy', 'F1', 'Modified Accuracy']))\n",
    "for m in methods:\n",
    "    print(f'Final results with method {m}')\n",
    "    print(tabulate(output[m], headers=['Length', 'Accuracy', 'F1', 'Modified Accuracy']))"
   ],
   "metadata": {
    "collapsed": false
   }
  }
 ],
 "metadata": {
  "kernelspec": {
   "display_name": "Python 3",
   "language": "python",
   "name": "python3"
  },
  "language_info": {
   "codemirror_mode": {
    "name": "ipython",
    "version": 2
   },
   "file_extension": ".py",
   "mimetype": "text/x-python",
   "name": "python",
   "nbconvert_exporter": "python",
   "pygments_lexer": "ipython2",
   "version": "2.7.6"
  }
 },
 "nbformat": 4,
 "nbformat_minor": 0
}
